{
 "cells": [
  {
   "cell_type": "markdown",
   "metadata": {},
   "source": [
    "# Machine Learning\n",
    "\n",
    "All machine learning models will be created in this document. CODE WITH ALGORITHMS WILL BE SCREENSHOT"
   ]
  },
  {
   "cell_type": "code",
   "execution_count": 42,
   "metadata": {},
   "outputs": [],
   "source": [
    "import pandas as pd\n",
    "import numpy as np\n",
    "import seaborn as sns\n",
    "import matplotlib\n",
    "\n",
    "import matplotlib.pyplot as plt\n",
    "from scipy.stats import skew\n",
    "from scipy.stats.stats import pearsonr\n",
    "from sklearn import linear_model\n",
    "from sklearn.model_selection import train_test_split\n",
    "\n",
    "%matplotlib inline\n",
    "\n",
    "all_df = pd.read_csv(\"../data/processed/cleaned.csv\")\n",
    "all_df = all_df.drop([\"community_name\"], axis = 1)\n",
    "all_df[\"OtherPerCap\"] = all_df[\"OtherPerCap\"].astype(\"float64\")"
   ]
  },
  {
   "cell_type": "markdown",
   "metadata": {},
   "source": [
    "Splitting dataset"
   ]
  },
  {
   "cell_type": "code",
   "execution_count": 44,
   "metadata": {
    "collapsed": true
   },
   "outputs": [],
   "source": [
    "train,test = train_test_split(all_df, test_size = 0.2)"
   ]
  },
  {
   "cell_type": "markdown",
   "metadata": {},
   "source": [
    "ONLY DO THIS IF YOU CAN EXPLAIN IT\n",
    "\n",
    "A log transformation of the points will be neccessary if it is heavily skewed. By applying this transformation, it will be easier to create a regression model"
   ]
  },
  {
   "cell_type": "code",
   "execution_count": 24,
   "metadata": {},
   "outputs": [
    {
     "name": "stderr",
     "output_type": "stream",
     "text": [
      "/Users/aaronabraham/anaconda3/lib/python3.6/site-packages/ipykernel_launcher.py:2: SettingWithCopyWarning: \n",
      "A value is trying to be set on a copy of a slice from a DataFrame.\n",
      "Try using .loc[row_indexer,col_indexer] = value instead\n",
      "\n",
      "See the caveats in the documentation: http://pandas.pydata.org/pandas-docs/stable/indexing.html#indexing-view-versus-copy\n",
      "  \n"
     ]
    },
    {
     "data": {
      "text/plain": [
       "<matplotlib.axes._subplots.AxesSubplot at 0x10c10fa90>"
      ]
     },
     "execution_count": 24,
     "metadata": {},
     "output_type": "execute_result"
    },
    {
     "data": {
      "image/png": "[encoded data removed]",
      "text/plain": [
       "<matplotlib.figure.Figure at 0x10cea7080>"
      ]
     },
     "metadata": {},
     "output_type": "display_data"
    }
   ],
   "source": [
    "#log transform the target:\n",
    "train[\"ViolentCrimesPerPop:\"] = np.log1p(train[\"ViolentCrimesPerPop:\"])\n",
    "\n",
    "#log transform skewed numeric features:\n",
    "numeric_feats = all_df.dtypes[all_df.dtypes != \"object\"].index\n",
    "\n",
    "skewed_feats = train[numeric_feats].apply(lambda x: skew(x)) #compute skewness\n",
    "skewed_feats = skewed_feats[skewed_feats > 0.75]\n",
    "skewed_feats = skewed_feats.index\n",
    "\n",
    "all_df[skewed_feats] = np.log1p(all_df[skewed_feats])\n",
    "\n",
    "all_df[\"racePctAsian\"].hist()"
   ]
  },
  {
   "cell_type": "markdown",
   "metadata": {},
   "source": [
    "## Modelling \n",
    "\n",
    "We will be using scikits inbuilt regression modules. We will try to tune the parameters based on RMSE scores."
   ]
  },
  {
   "cell_type": "code",
   "execution_count": 53,
   "metadata": {
    "collapsed": true
   },
   "outputs": [],
   "source": [
    "y = train[\"ViolentCrimesPerPop:\"]\n",
    "\n",
    "from sklearn.linear_model import Ridge, RidgeCV, ElasticNet, LassoCV, LassoLarsCV\n",
    "from sklearn.model_selection import cross_val_score\n",
    "\n",
    "# Making RMSE function\n",
    "def rmse_cv(model):\n",
    "    rmse= np.sqrt(-cross_val_score(model, train, y, scoring=\"neg_mean_squared_error\", cv = 10))\n",
    "    return(rmse)"
   ]
  },
  {
   "cell_type": "markdown",
   "metadata": {},
   "source": [
    "We will first try a Ridge model. Ridge regression is used when there is multicollinearity among predictors. Given that there is bias in the dataset, this is most likely true. EVALUATE COLLINEARITY BASED ON HEATMAP\n",
    "\n",
    "We will also optimize the Ridge model using cross-validation. We are optimizing the alpha value, which is a measure of how flexible the model will be. High alpha values might reduce problems of being overfit, but it might also lose predictive power."
   ]
  },
  {
   "cell_type": "code",
   "execution_count": 54,
   "metadata": {},
   "outputs": [
    {
     "data": {
      "text/plain": [
       "Text(0,0.5,'rmse')"
      ]
     },
     "execution_count": 54,
     "metadata": {},
     "output_type": "execute_result"
    },
    {
     "data": {
      "image/png": "[encoded data removed]",
      "text/plain": [
       "<matplotlib.figure.Figure at 0x1a1187bfd0>"
      ]
     },
     "metadata": {},
     "output_type": "display_data"
    }
   ],
   "source": [
    "model_ridge = Ridge()\n",
    "\n",
    "alphas = [ 10, 15, 30, 50, 75]\n",
    "cv_ridge = [rmse_cv(Ridge(alpha = alpha)).mean() \n",
    "            for alpha in alphas]\n",
    "\n",
    "cv_ridge = pd.Series(cv_ridge, index = alphas)\n",
    "cv_ridge.plot(title = \"Validation of Alphas in Ridge Model\")\n",
    "plt.xlabel(\"alpha\")\n",
    "plt.ylabel(\"rmse\")"
   ]
  },
  {
   "cell_type": "markdown",
   "metadata": {},
   "source": [
    "Lets make our prediction off this alpha value:"
   ]
  },
  {
   "cell_type": "code",
   "execution_count": null,
   "metadata": {
    "collapsed": true
   },
   "outputs": [],
   "source": [
    "# Metrics for regression\n",
    "def rmsle(y, y_pred):\n",
    "    return np.sqrt(mean_squared_error(y, y_pred))"
   ]
  },
  {
   "cell_type": "code",
   "execution_count": 43,
   "metadata": {},
   "outputs": [
    {
     "data": {
      "text/plain": [
       "population                float64\n",
       "householdsize             float64\n",
       "racepctblack              float64\n",
       "racePctWhite              float64\n",
       "racePctAsian              float64\n",
       "racePctHisp               float64\n",
       "agePct12t21               float64\n",
       "agePct12t29               float64\n",
       "agePct16t24               float64\n",
       "agePct65up                float64\n",
       "numbUrban                 float64\n",
       "pctUrban                  float64\n",
       "medIncome                 float64\n",
       "pctWWage                  float64\n",
       "pctWFarmSelf              float64\n",
       "pctWInvInc                float64\n",
       "pctWSocSec                float64\n",
       "pctWPubAsst               float64\n",
       "pctWRetire                float64\n",
       "medFamInc                 float64\n",
       "perCapInc                 float64\n",
       "whitePerCap               float64\n",
       "blackPerCap               float64\n",
       "indianPerCap              float64\n",
       "AsianPerCap               float64\n",
       "OtherPerCap                object\n",
       "HispPerCap                float64\n",
       "NumUnderPov               float64\n",
       "PctPopUnderPov            float64\n",
       "PctLess9thGrade:          float64\n",
       "                           ...   \n",
       "PctPersDenseHous:         float64\n",
       "PctHousLess3BR:           float64\n",
       "MedNumBR:                 float64\n",
       "HousVacant:               float64\n",
       "PctHousOccup:             float64\n",
       "PctHousOwnOcc:            float64\n",
       "PctVacantBoarded:         float64\n",
       "PctVacMore6Mos:           float64\n",
       "MedYrHousBuilt:           float64\n",
       "PctHousNoPhone:           float64\n",
       "PctWOFullPlumb:           float64\n",
       "OwnOccLowQuart:           float64\n",
       "OwnOccMedVal:             float64\n",
       "OwnOccHiQuart:            float64\n",
       "RentLowQ:                 float64\n",
       "RentMedian:               float64\n",
       "RentHighQ:                float64\n",
       "MedRent:                  float64\n",
       "MedRentPctHousInc:        float64\n",
       "MedOwnCostPctInc:         float64\n",
       "MedOwnCostPctIncNoMtg:    float64\n",
       "NumInShelters:            float64\n",
       "NumStreet:                float64\n",
       "PctForeignBorn:           float64\n",
       "PctBornSameState:         float64\n",
       "PctSameHouse85:           float64\n",
       "LandArea:                 float64\n",
       "PopDens:                  float64\n",
       "PctUsePubTrans:           float64\n",
       "ViolentCrimesPerPop:      float64\n",
       "Length: 90, dtype: object"
      ]
     },
     "execution_count": 43,
     "metadata": {},
     "output_type": "execute_result"
    }
   ],
   "source": [
    "train.dtypes"
   ]
  },
  {
   "cell_type": "code",
   "execution_count": null,
   "metadata": {
    "collapsed": true
   },
   "outputs": [],
   "source": [
    "y"
   ]
  }
 ],
 "metadata": {
  "kernelspec": {
   "display_name": "Python 3",
   "language": "python",
   "name": "python3"
  },
  "language_info": {
   "codemirror_mode": {
    "name": "ipython",
    "version": 3
   },
   "file_extension": ".py",
   "mimetype": "text/x-python",
   "name": "python",
   "nbconvert_exporter": "python",
   "pygments_lexer": "ipython3",
   "version": "3.6.3"
  }
 },
 "nbformat": 4,
 "nbformat_minor": 2
}
